{
 "cells": [
  {
   "cell_type": "code",
   "execution_count": 17,
   "metadata": {},
   "outputs": [],
   "source": [
    "import json\n",
    "import re\n",
    "from base64 import b64encode, b64decode\n",
    "import hmac\n",
    "import hashlib\n",
    "import random\n",
    "import ast\n",
    "import codecs\n",
    "\n",
    "from Crypto.Cipher import AES, DES\n",
    "from Crypto import Random\n",
    "from Crypto.Util.Padding import pad, unpad\n",
    "from Crypto.Random import get_random_bytes"
   ]
  },
  {
   "cell_type": "code",
   "execution_count": null,
   "metadata": {},
   "outputs": [],
   "source": []
  },
  {
   "cell_type": "markdown",
   "metadata": {},
   "source": [
    "## hashlib"
   ]
  },
  {
   "cell_type": "code",
   "execution_count": 2,
   "metadata": {},
   "outputs": [],
   "source": [
    "from hashlib import sha256"
   ]
  },
  {
   "cell_type": "code",
   "execution_count": 93,
   "metadata": {},
   "outputs": [],
   "source": [
    "h = sha256()\n",
    "h.update(b'Este es un ejemplo de texto.')"
   ]
  },
  {
   "cell_type": "code",
   "execution_count": 94,
   "metadata": {},
   "outputs": [
    {
     "data": {
      "text/plain": [
       "b' \\x1de\\xa1\"\\x0c~\\x85\\xde\\xba\\xfdh-cj\\xa5|\\x83\\xc6\\xb0\\xdb\\xa9\\xb1\\xe21/\\x9di\\xc4*\\xa1J'"
      ]
     },
     "execution_count": 94,
     "metadata": {},
     "output_type": "execute_result"
    }
   ],
   "source": [
    "h.digest()"
   ]
  },
  {
   "cell_type": "code",
   "execution_count": 95,
   "metadata": {},
   "outputs": [
    {
     "data": {
      "text/plain": [
       "'201d65a1220c7e85debafd682d636aa57c83c6b0dba9b1e2312f9d69c42aa14a'"
      ]
     },
     "execution_count": 95,
     "metadata": {},
     "output_type": "execute_result"
    }
   ],
   "source": [
    "h.hexdigest()"
   ]
  },
  {
   "cell_type": "code",
   "execution_count": 96,
   "metadata": {},
   "outputs": [
    {
     "name": "stdout",
     "output_type": "stream",
     "text": [
      "b'IB1loSIMfoXeuv1oLWNqpXyDxrDbqbHiMS+dacQqoUo=\\n'\n"
     ]
    }
   ],
   "source": [
    "print(codecs.encode(h.digest(), 'base64'))"
   ]
  },
  {
   "cell_type": "code",
   "execution_count": null,
   "metadata": {},
   "outputs": [],
   "source": []
  },
  {
   "cell_type": "markdown",
   "metadata": {},
   "source": [
    "## blake2b"
   ]
  },
  {
   "cell_type": "code",
   "execution_count": 97,
   "metadata": {},
   "outputs": [],
   "source": [
    "from hashlib import blake2b"
   ]
  },
  {
   "cell_type": "code",
   "execution_count": 85,
   "metadata": {},
   "outputs": [],
   "source": [
    "b = blake2b(digest_size=64)\n",
    "b.update(b'Este es un ejemplo de texto.')"
   ]
  },
  {
   "cell_type": "code",
   "execution_count": 86,
   "metadata": {},
   "outputs": [
    {
     "data": {
      "text/plain": [
       "b'\\xe0=\\t\\x14\\xb1\\xa7\\xaf$\\xb1%\\x07\\xb9\\xbd\\xa2\\xc2\\xb8\\xc5@\\x87\\xbc\\x88\\x93P\\xf3+\\xb7\\xdc\\x01\\xdb\\xc0\\xe6d#\\xd3\\x146&\\xb3:\\x12<\\xf6\\x8eD4\\x0e\\xea@\\xa5}m\\x0f;rk6\\xbeAX\\xb8\\xf9x\\xa1\\x0f'"
      ]
     },
     "execution_count": 86,
     "metadata": {},
     "output_type": "execute_result"
    }
   ],
   "source": [
    "b.digest()"
   ]
  },
  {
   "cell_type": "code",
   "execution_count": 87,
   "metadata": {},
   "outputs": [
    {
     "data": {
      "text/plain": [
       "'e03d0914b1a7af24b12507b9bda2c2b8c54087bc889350f32bb7dc01dbc0e66423d3143626b33a123cf68e44340eea40a57d6d0f3b726b36be4158b8f978a10f'"
      ]
     },
     "execution_count": 87,
     "metadata": {},
     "output_type": "execute_result"
    }
   ],
   "source": [
    "b.hexdigest()"
   ]
  },
  {
   "cell_type": "code",
   "execution_count": 88,
   "metadata": {},
   "outputs": [
    {
     "name": "stdout",
     "output_type": "stream",
     "text": [
      "b'4D0JFLGnrySxJQe5vaLCuMVAh7yIk1DzK7fcAdvA5mQj0xQ2JrM6Ejz2jkQ0DupApX1tDztyaza+\\nQVi4+XihDw==\\n'\n"
     ]
    }
   ],
   "source": [
    "print(codecs.encode(b.digest(), 'base64'))"
   ]
  },
  {
   "cell_type": "code",
   "execution_count": null,
   "metadata": {},
   "outputs": [],
   "source": []
  },
  {
   "cell_type": "markdown",
   "metadata": {},
   "source": [
    "## pbkdf2_hmac"
   ]
  },
  {
   "cell_type": "code",
   "execution_count": 98,
   "metadata": {},
   "outputs": [],
   "source": [
    "from hashlib import pbkdf2_hmac"
   ]
  },
  {
   "cell_type": "code",
   "execution_count": 74,
   "metadata": {},
   "outputs": [],
   "source": [
    "password = b'password'"
   ]
  },
  {
   "cell_type": "code",
   "execution_count": 75,
   "metadata": {},
   "outputs": [
    {
     "data": {
      "text/plain": [
       "b'password'"
      ]
     },
     "execution_count": 75,
     "metadata": {},
     "output_type": "execute_result"
    }
   ],
   "source": [
    "password"
   ]
  },
  {
   "cell_type": "code",
   "execution_count": 57,
   "metadata": {},
   "outputs": [
    {
     "data": {
      "text/plain": [
       "b'Z4p\\x0e\\x07\\x8d\\xf7\\x00\\x84V\\xe4S\\xf3\\x0f\\x9f\\x7ffd\\x1b\\xedGzW\\x9ay\\xb9_Ox\\xb6r\\x91\\x07\\x13\\xa0\\xae\\xad\\x8b\\xfb\\x08:\\xa8\\xd6iW5\\x80\\x8dC`1\\xcf\\x8eY</\\xdd%P\\xeb\\x85\\xd5(\\xa2'"
      ]
     },
     "execution_count": 57,
     "metadata": {},
     "output_type": "execute_result"
    }
   ],
   "source": [
    "salt = Random.get_random_bytes(64)\n",
    "salt"
   ]
  },
  {
   "cell_type": "code",
   "execution_count": 108,
   "metadata": {},
   "outputs": [
    {
     "data": {
      "text/plain": [
       "b'\\x87\\x9e\\x98\\x9c\\xfc\\xe3S\\xb4\\xf8\\xac2\\xec\\xearUd+\\xd1J\\x12\\xa5\\xe1P\\xc1\\xac\\xe7\\xcd\\x01\\xd9\\xbe8x'"
      ]
     },
     "execution_count": 108,
     "metadata": {},
     "output_type": "execute_result"
    }
   ],
   "source": [
    "p = pbkdf2_hmac('sha256', password, salt, 1000)\n",
    "p"
   ]
  },
  {
   "cell_type": "code",
   "execution_count": 109,
   "metadata": {},
   "outputs": [
    {
     "data": {
      "text/plain": [
       "'879e989cfce353b4f8ac32ecea7255642bd14a12a5e150c1ace7cd01d9be3878'"
      ]
     },
     "execution_count": 109,
     "metadata": {},
     "output_type": "execute_result"
    }
   ],
   "source": [
    "p.hex()"
   ]
  },
  {
   "cell_type": "code",
   "execution_count": 110,
   "metadata": {},
   "outputs": [
    {
     "name": "stdout",
     "output_type": "stream",
     "text": [
      "b'h56YnPzjU7T4rDLs6nJVZCvRShKl4VDBrOfNAdm+OHg=\\n'\n"
     ]
    }
   ],
   "source": [
    "print(codecs.encode(p, 'base64'))"
   ]
  },
  {
   "cell_type": "code",
   "execution_count": null,
   "metadata": {},
   "outputs": [],
   "source": []
  },
  {
   "cell_type": "markdown",
   "metadata": {},
   "source": [
    "## hmac"
   ]
  },
  {
   "cell_type": "code",
   "execution_count": 111,
   "metadata": {},
   "outputs": [],
   "source": [
    "password = b'password'"
   ]
  },
  {
   "cell_type": "code",
   "execution_count": 112,
   "metadata": {},
   "outputs": [
    {
     "data": {
      "text/plain": [
       "b'password'"
      ]
     },
     "execution_count": 112,
     "metadata": {},
     "output_type": "execute_result"
    }
   ],
   "source": [
    "password"
   ]
  },
  {
   "cell_type": "code",
   "execution_count": 116,
   "metadata": {},
   "outputs": [],
   "source": [
    "digest_maker = hmac.new(b'secret-key', password, hashlib.sha256)"
   ]
  },
  {
   "cell_type": "code",
   "execution_count": 117,
   "metadata": {},
   "outputs": [
    {
     "data": {
      "text/plain": [
       "b'\\x93C\\\\\\x1a\"\\xa9~\\xb3\\x1dV\\xeer\\x1be\\r\\x90\\xcb\\x17\\xda\\xf55\\xb8\\xf8\\xd4rp5\\xe1\\xcb\\xf6\\x82\\x1c'"
      ]
     },
     "execution_count": 117,
     "metadata": {},
     "output_type": "execute_result"
    }
   ],
   "source": [
    "digest_maker.digest()"
   ]
  },
  {
   "cell_type": "code",
   "execution_count": 118,
   "metadata": {},
   "outputs": [
    {
     "data": {
      "text/plain": [
       "'93435c1a22a97eb31d56ee721b650d90cb17daf535b8f8d4727035e1cbf6821c'"
      ]
     },
     "execution_count": 118,
     "metadata": {},
     "output_type": "execute_result"
    }
   ],
   "source": [
    "digest_maker.hexdigest()"
   ]
  },
  {
   "cell_type": "code",
   "execution_count": 119,
   "metadata": {},
   "outputs": [
    {
     "name": "stdout",
     "output_type": "stream",
     "text": [
      "b'k0NcGiKpfrMdVu5yG2UNkMsX2vU1uPjUcnA14cv2ghw=\\n'\n"
     ]
    }
   ],
   "source": [
    "print(codecs.encode(digest_maker.digest(), 'base64'))"
   ]
  },
  {
   "cell_type": "code",
   "execution_count": null,
   "metadata": {},
   "outputs": [],
   "source": [
    "plaintext = pt.decode('utf-8')\n",
    "plaintext"
   ]
  },
  {
   "cell_type": "code",
   "execution_count": null,
   "metadata": {},
   "outputs": [],
   "source": []
  }
 ],
 "metadata": {
  "kernelspec": {
   "display_name": "Python 3",
   "language": "python",
   "name": "python3"
  },
  "language_info": {
   "codemirror_mode": {
    "name": "ipython",
    "version": 3
   },
   "file_extension": ".py",
   "mimetype": "text/x-python",
   "name": "python",
   "nbconvert_exporter": "python",
   "pygments_lexer": "ipython3",
   "version": "3.6.10"
  }
 },
 "nbformat": 4,
 "nbformat_minor": 4
}
